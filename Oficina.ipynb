{
  "nbformat": 4,
  "nbformat_minor": 0,
  "metadata": {
    "colab": {
      "provenance": [],
      "mount_file_id": "1FEYaGWfA2AwkZSIqPj7S6NFEKpX2ICtx",
      "authorship_tag": "ABX9TyPRPonk4WhHSgSjc61ZKYEj",
      "include_colab_link": true
    },
    "kernelspec": {
      "name": "python3",
      "display_name": "Python 3"
    },
    "language_info": {
      "name": "python"
    }
  },
  "cells": [
    {
      "cell_type": "markdown",
      "metadata": {
        "id": "view-in-github",
        "colab_type": "text"
      },
      "source": [
        "<a href=\"https://colab.research.google.com/github/WilliamCutelo/Ifood/blob/main/Oficina.ipynb\" target=\"_parent\"><img src=\"https://colab.research.google.com/assets/colab-badge.svg\" alt=\"Open In Colab\"/></a>"
      ]
    },
    {
      "cell_type": "code",
      "source": [
        "import json # importa o modulo JSON\n",
        "import os"
      ],
      "metadata": {
        "id": "X96iBTSrGQx4"
      },
      "execution_count": 40,
      "outputs": []
    },
    {
      "cell_type": "code",
      "source": [
        "with open('Json_Aula_Python.txt', 'r', encoding='utf-8') as arquivo:\n",
        "  conteudo = arquivo.read()"
      ],
      "metadata": {
        "id": "2VNuWmEGIXz6"
      },
      "execution_count": 41,
      "outputs": []
    },
    {
      "cell_type": "code",
      "source": [
        "dados = json.loads(conteudo)"
      ],
      "metadata": {
        "id": "-hu9QYS3JpZV"
      },
      "execution_count": 42,
      "outputs": []
    },
    {
      "cell_type": "code",
      "source": [
        "with open('Json_Aula_Python.json', 'w') as file:\n",
        "  json.dump(dados, file, indent=4)"
      ],
      "metadata": {
        "id": "Xcq86hTpJ_5J"
      },
      "execution_count": 43,
      "outputs": []
    },
    {
      "cell_type": "code",
      "source": [
        "def nome_programa():\n",
        " print(\"\"\"\n",
        "\n",
        "\n",
        "────────────────────────────────────────────────────────────────────────\n",
        "─██████████─██████████████─██████████████─██████████████─████████████───\n",
        "─██░░░░░░██─██░░░░░░░░░░██─██░░░░░░░░░░██─██░░░░░░░░░░██─██░░░░░░░░████─\n",
        "─████░░████─██░░██████████─██░░██████░░██─██░░██████░░██─██░░████░░░░██─\n",
        "───██░░██───██░░██─────────██░░██──██░░██─██░░██──██░░██─██░░██──██░░██─\n",
        "───██░░██───██░░██████████─██░░██──██░░██─██░░██──██░░██─██░░██──██░░██─\n",
        "───██░░██───██░░░░░░░░░░██─██░░██──██░░██─██░░██──██░░██─██░░██──██░░██─\n",
        "───██░░██───██░░██████████─██░░██──██░░██─██░░██──██░░██─██░░██──██░░██─\n",
        "───██░░██───██░░██─────────██░░██──██░░██─██░░██──██░░██─██░░██──██░░██─\n",
        "─████░░████─██░░██─────────██░░██████░░██─██░░██████░░██─██░░████░░░░██─\n",
        "─██░░░░░░██─██░░██─────────██░░░░░░░░░░██─██░░░░░░░░░░██─██░░░░░░░░████─\n",
        "─██████████─██████─────────██████████████─██████████████─████████████───\n",
        "────────────────────────────────────────────────────────────────────────\n",
        "  \"\"\")\n",
        "\n"
      ],
      "metadata": {
        "id": "H-iuIyAPL6Qy"
      },
      "execution_count": 44,
      "outputs": []
    },
    {
      "cell_type": "code",
      "source": [
        "def exibir_opçoes():\n",
        "  print('1.Lanches')\n",
        "  print('2.Restaurantes')\n",
        "  print('3.Ver Lanche')\n",
        "  print('4.Ver Restaurante')\n",
        "  print('5.Adicionar item')\n",
        "  print('6.Remover item')\n",
        "  print('7.Salvar')\n",
        "  print('8.Sair')"
      ],
      "metadata": {
        "id": "VRk5f7fVNdyL"
      },
      "execution_count": 57,
      "outputs": []
    },
    {
      "cell_type": "code",
      "source": [
        "def lanches_e_itens():\n",
        "  #print(dados ['Item'])\n",
        " for item in dados:\n",
        "    print(item[\"Item\"])"
      ],
      "metadata": {
        "id": "5RJ9i7VhRG4i"
      },
      "execution_count": 46,
      "outputs": []
    },
    {
      "cell_type": "code",
      "source": [
        "def restaurantes():\n",
        "  #print(dados ['Company'])\n",
        "  restaurante = []\n",
        "  for item in dados:\n",
        "    if item[\"Company\"] not in restaurante:\n",
        "      restaurante.append(item['Company'])\n",
        "  print(restaurante)"
      ],
      "metadata": {
        "id": "Rv9w5xm1Y2pg"
      },
      "execution_count": 47,
      "outputs": []
    },
    {
      "cell_type": "code",
      "source": [
        "def menu():\n",
        "\n",
        "  opcao = input(\"Digite a opção desejada: \")\n",
        "  match opcao:\n",
        "    case '1':\n",
        "      #código para exibir lanches\n",
        "      lanches_e_itens()\n",
        "    case '2':\n",
        "      #código para exibir restaurantes\n",
        "      restaurantes()\n",
        "    case '3':\n",
        "      # código para ver um lanche expecifico\n",
        "      ver_lanche()\n",
        "    case '4':\n",
        "      # código para ver um restaurante expecifico\n",
        "      ver_restaurante()\n",
        "    case '5':\n",
        "      # código para adicionar item\n",
        "      adicionar_item()\n",
        "      print(\"Adicionando item...\")\n",
        "    case '6':\n",
        "      # código para remover item\n",
        "      remover_item()\n",
        "      print(\"Removendo item...\")\n",
        "    case '7':\n",
        "      # código para salvar\n",
        "      json.dump(dados, open('Json_Aula_Python.json', 'w'), indent=4)\n",
        "      print(\"Salvando...\")\n",
        "    case '8':\n",
        "      # código para sair\n",
        "      Saindo()\n",
        "      print(\"Saindo...\")\n",
        "\n",
        "    case _:\n",
        "      print(\"Opção inválida.\")\n",
        "\n"
      ],
      "metadata": {
        "id": "vpyoWt7SOXKN"
      },
      "execution_count": 63,
      "outputs": []
    },
    {
      "cell_type": "code",
      "source": [
        "def Saindo():\n",
        "  print(\"Obrigado por usar o programa!\")\n",
        "  exit()"
      ],
      "metadata": {
        "id": "bRBMIzbojU0D"
      },
      "execution_count": 62,
      "outputs": []
    },
    {
      "cell_type": "code",
      "source": [
        "def ver_restaurante():\n",
        "  restaurante = input(\"Digite o nome do restaurante: \")\n",
        "  for item in dados: # Removed potential extra space before this line\n",
        "    if item[\"Company\"] == restaurante:\n",
        "      print(item)"
      ],
      "metadata": {
        "id": "5EvBqpwjhd1i"
      },
      "execution_count": 51,
      "outputs": []
    },
    {
      "cell_type": "code",
      "source": [
        "def ver_lanche():\n",
        " lanche = input(\"Digite o nome do lanche: \")\n",
        " for item in dados:\n",
        "  if item[\"Item\"] == lanche:\n",
        "    print(item)"
      ],
      "metadata": {
        "id": "4T8geQT4hP2s"
      },
      "execution_count": 52,
      "outputs": []
    },
    {
      "cell_type": "code",
      "source": [
        "def adicionar_item():\n",
        "  item = input(\"Digite o nome do item: \")\n",
        "  preco = float(input(\"Digite o preço do item: \"))\n",
        "  company = input(\"Digite o nome da empresa:\")\n",
        "  descrição = input(\"Digite a descrição do item:\")\n",
        "  dados.append({\"Item\": item, \"price\": preco, \"Company\": company, \"description\": descrição})\n",
        "  print(\"Item adicionado com sucesso!\")\n",
        "  return"
      ],
      "metadata": {
        "id": "h9FxxF13b2Jc"
      },
      "execution_count": 53,
      "outputs": []
    },
    {
      "cell_type": "code",
      "source": [
        "def remover_item():\n",
        "  item = input(\"Digite o nome do item que deseja remover: \")\n",
        "  for i in range(len(dados)):\n",
        "    if dados[i][\"Item\"] == item:\n",
        "      del dados[i]\n",
        "      print(\"Item removido com sucesso!\")\n",
        "      return"
      ],
      "metadata": {
        "id": "1mMjPf0geCYK"
      },
      "execution_count": 54,
      "outputs": []
    },
    {
      "cell_type": "code",
      "source": [
        "def main():\n",
        "  nome_programa()\n",
        "  while True:\n",
        "    exibir_opçoes()\n",
        "    menu()\n",
        "\n",
        "print(main())"
      ],
      "metadata": {
        "colab": {
          "base_uri": "https://localhost:8080/",
          "height": 946
        },
        "id": "7l7YOLLRZFMN",
        "outputId": "9d6129ce-d23d-495c-b585-38d3391c0bce"
      },
      "execution_count": 64,
      "outputs": [
        {
          "output_type": "stream",
          "name": "stdout",
          "text": [
            "\n",
            "\n",
            "\n",
            "────────────────────────────────────────────────────────────────────────\n",
            "─██████████─██████████████─██████████████─██████████████─████████████───\n",
            "─██░░░░░░██─██░░░░░░░░░░██─██░░░░░░░░░░██─██░░░░░░░░░░██─██░░░░░░░░████─\n",
            "─████░░████─██░░██████████─██░░██████░░██─██░░██████░░██─██░░████░░░░██─\n",
            "───██░░██───██░░██─────────██░░██──██░░██─██░░██──██░░██─██░░██──██░░██─\n",
            "───██░░██───██░░██████████─██░░██──██░░██─██░░██──██░░██─██░░██──██░░██─\n",
            "───██░░██───██░░░░░░░░░░██─██░░██──██░░██─██░░██──██░░██─██░░██──██░░██─\n",
            "───██░░██───██░░██████████─██░░██──██░░██─██░░██──██░░██─██░░██──██░░██─\n",
            "───██░░██───██░░██─────────██░░██──██░░██─██░░██──██░░██─██░░██──██░░██─\n",
            "─████░░████─██░░██─────────██░░██████░░██─██░░██████░░██─██░░████░░░░██─\n",
            "─██░░░░░░██─██░░██─────────██░░░░░░░░░░██─██░░░░░░░░░░██─██░░░░░░░░████─\n",
            "─██████████─██████─────────██████████████─██████████████─████████████───\n",
            "────────────────────────────────────────────────────────────────────────\n",
            "  \n",
            "1.Lanches\n",
            "2.Restaurantes\n",
            "3.Ver Lanche\n",
            "4.Ver Restaurante\n",
            "5.Adicionar item\n",
            "6.Remover item\n",
            "7.Salvar\n",
            "8.Sair\n",
            "Digite a opção desejada: 8\n",
            "Obrigado por usar o programa!\n",
            "Saindo...\n",
            "1.Lanches\n",
            "2.Restaurantes\n",
            "3.Ver Lanche\n",
            "4.Ver Restaurante\n",
            "5.Adicionar item\n",
            "6.Remover item\n",
            "7.Salvar\n",
            "8.Sair\n"
          ]
        },
        {
          "output_type": "error",
          "ename": "KeyboardInterrupt",
          "evalue": "Interrupted by user",
          "traceback": [
            "\u001b[0;31m---------------------------------------------------------------------------\u001b[0m",
            "\u001b[0;31mKeyboardInterrupt\u001b[0m                         Traceback (most recent call last)",
            "\u001b[0;32m<ipython-input-64-54bd8750bd37>\u001b[0m in \u001b[0;36m<cell line: 7>\u001b[0;34m()\u001b[0m\n\u001b[1;32m      5\u001b[0m     \u001b[0mmenu\u001b[0m\u001b[0;34m(\u001b[0m\u001b[0;34m)\u001b[0m\u001b[0;34m\u001b[0m\u001b[0;34m\u001b[0m\u001b[0m\n\u001b[1;32m      6\u001b[0m \u001b[0;34m\u001b[0m\u001b[0m\n\u001b[0;32m----> 7\u001b[0;31m \u001b[0mprint\u001b[0m\u001b[0;34m(\u001b[0m\u001b[0mmain\u001b[0m\u001b[0;34m(\u001b[0m\u001b[0;34m)\u001b[0m\u001b[0;34m)\u001b[0m\u001b[0;34m\u001b[0m\u001b[0;34m\u001b[0m\u001b[0m\n\u001b[0m",
            "\u001b[0;32m<ipython-input-64-54bd8750bd37>\u001b[0m in \u001b[0;36mmain\u001b[0;34m()\u001b[0m\n\u001b[1;32m      3\u001b[0m   \u001b[0;32mwhile\u001b[0m \u001b[0;32mTrue\u001b[0m\u001b[0;34m:\u001b[0m\u001b[0;34m\u001b[0m\u001b[0;34m\u001b[0m\u001b[0m\n\u001b[1;32m      4\u001b[0m     \u001b[0mexibir_opçoes\u001b[0m\u001b[0;34m(\u001b[0m\u001b[0;34m)\u001b[0m\u001b[0;34m\u001b[0m\u001b[0;34m\u001b[0m\u001b[0m\n\u001b[0;32m----> 5\u001b[0;31m     \u001b[0mmenu\u001b[0m\u001b[0;34m(\u001b[0m\u001b[0;34m)\u001b[0m\u001b[0;34m\u001b[0m\u001b[0;34m\u001b[0m\u001b[0m\n\u001b[0m\u001b[1;32m      6\u001b[0m \u001b[0;34m\u001b[0m\u001b[0m\n\u001b[1;32m      7\u001b[0m \u001b[0mprint\u001b[0m\u001b[0;34m(\u001b[0m\u001b[0mmain\u001b[0m\u001b[0;34m(\u001b[0m\u001b[0;34m)\u001b[0m\u001b[0;34m)\u001b[0m\u001b[0;34m\u001b[0m\u001b[0;34m\u001b[0m\u001b[0m\n",
            "\u001b[0;32m<ipython-input-63-aa72d90cd080>\u001b[0m in \u001b[0;36mmenu\u001b[0;34m()\u001b[0m\n\u001b[1;32m      1\u001b[0m \u001b[0;32mdef\u001b[0m \u001b[0mmenu\u001b[0m\u001b[0;34m(\u001b[0m\u001b[0;34m)\u001b[0m\u001b[0;34m:\u001b[0m\u001b[0;34m\u001b[0m\u001b[0;34m\u001b[0m\u001b[0m\n\u001b[1;32m      2\u001b[0m \u001b[0;34m\u001b[0m\u001b[0m\n\u001b[0;32m----> 3\u001b[0;31m   \u001b[0mopcao\u001b[0m \u001b[0;34m=\u001b[0m \u001b[0minput\u001b[0m\u001b[0;34m(\u001b[0m\u001b[0;34m\"Digite a opção desejada: \"\u001b[0m\u001b[0;34m)\u001b[0m\u001b[0;34m\u001b[0m\u001b[0;34m\u001b[0m\u001b[0m\n\u001b[0m\u001b[1;32m      4\u001b[0m   \u001b[0mmatch\u001b[0m \u001b[0mopcao\u001b[0m\u001b[0;34m:\u001b[0m\u001b[0;34m\u001b[0m\u001b[0;34m\u001b[0m\u001b[0m\n\u001b[1;32m      5\u001b[0m     \u001b[0mcase\u001b[0m \u001b[0;34m'1'\u001b[0m\u001b[0;34m:\u001b[0m\u001b[0;34m\u001b[0m\u001b[0;34m\u001b[0m\u001b[0m\n",
            "\u001b[0;32m/usr/local/lib/python3.10/dist-packages/ipykernel/kernelbase.py\u001b[0m in \u001b[0;36mraw_input\u001b[0;34m(self, prompt)\u001b[0m\n\u001b[1;32m    849\u001b[0m                 \u001b[0;34m\"raw_input was called, but this frontend does not support input requests.\"\u001b[0m\u001b[0;34m\u001b[0m\u001b[0;34m\u001b[0m\u001b[0m\n\u001b[1;32m    850\u001b[0m             )\n\u001b[0;32m--> 851\u001b[0;31m         return self._input_request(str(prompt),\n\u001b[0m\u001b[1;32m    852\u001b[0m             \u001b[0mself\u001b[0m\u001b[0;34m.\u001b[0m\u001b[0m_parent_ident\u001b[0m\u001b[0;34m,\u001b[0m\u001b[0;34m\u001b[0m\u001b[0;34m\u001b[0m\u001b[0m\n\u001b[1;32m    853\u001b[0m             \u001b[0mself\u001b[0m\u001b[0;34m.\u001b[0m\u001b[0m_parent_header\u001b[0m\u001b[0;34m,\u001b[0m\u001b[0;34m\u001b[0m\u001b[0;34m\u001b[0m\u001b[0m\n",
            "\u001b[0;32m/usr/local/lib/python3.10/dist-packages/ipykernel/kernelbase.py\u001b[0m in \u001b[0;36m_input_request\u001b[0;34m(self, prompt, ident, parent, password)\u001b[0m\n\u001b[1;32m    893\u001b[0m             \u001b[0;32mexcept\u001b[0m \u001b[0mKeyboardInterrupt\u001b[0m\u001b[0;34m:\u001b[0m\u001b[0;34m\u001b[0m\u001b[0;34m\u001b[0m\u001b[0m\n\u001b[1;32m    894\u001b[0m                 \u001b[0;31m# re-raise KeyboardInterrupt, to truncate traceback\u001b[0m\u001b[0;34m\u001b[0m\u001b[0;34m\u001b[0m\u001b[0m\n\u001b[0;32m--> 895\u001b[0;31m                 \u001b[0;32mraise\u001b[0m \u001b[0mKeyboardInterrupt\u001b[0m\u001b[0;34m(\u001b[0m\u001b[0;34m\"Interrupted by user\"\u001b[0m\u001b[0;34m)\u001b[0m \u001b[0;32mfrom\u001b[0m \u001b[0;32mNone\u001b[0m\u001b[0;34m\u001b[0m\u001b[0;34m\u001b[0m\u001b[0m\n\u001b[0m\u001b[1;32m    896\u001b[0m             \u001b[0;32mexcept\u001b[0m \u001b[0mException\u001b[0m \u001b[0;32mas\u001b[0m \u001b[0me\u001b[0m\u001b[0;34m:\u001b[0m\u001b[0;34m\u001b[0m\u001b[0;34m\u001b[0m\u001b[0m\n\u001b[1;32m    897\u001b[0m                 \u001b[0mself\u001b[0m\u001b[0;34m.\u001b[0m\u001b[0mlog\u001b[0m\u001b[0;34m.\u001b[0m\u001b[0mwarning\u001b[0m\u001b[0;34m(\u001b[0m\u001b[0;34m\"Invalid Message:\"\u001b[0m\u001b[0;34m,\u001b[0m \u001b[0mexc_info\u001b[0m\u001b[0;34m=\u001b[0m\u001b[0;32mTrue\u001b[0m\u001b[0;34m)\u001b[0m\u001b[0;34m\u001b[0m\u001b[0;34m\u001b[0m\u001b[0m\n",
            "\u001b[0;31mKeyboardInterrupt\u001b[0m: Interrupted by user"
          ]
        }
      ]
    }
  ]
}